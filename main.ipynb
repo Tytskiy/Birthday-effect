{
 "cells": [
  {
   "cell_type": "code",
   "execution_count": 50,
   "metadata": {},
   "outputs": [],
   "source": [
    "import wptools\n",
    "import pickle\n",
    "import datetime\n",
    "import matplotlib.pyplot as plt"
   ]
  },
  {
   "cell_type": "markdown",
   "metadata": {},
   "source": [
    "### C помощью библиотеки wptools получаю доступ к категориям Dикипедии. Благо у вики существует категория %year%_death"
   ]
  },
  {
   "cell_type": "code",
   "execution_count": 51,
   "metadata": {},
   "outputs": [
    {
     "name": "stdout",
     "output_type": "stream",
     "text": [
      "количество страниц: 8137\n"
     ]
    }
   ],
   "source": [
    "%%capture --no-stdout\n",
    "cat = wptools.category('Category:2019_deaths')\n",
    "cat.get_members()\n",
    "print(\"количество страниц:\",len(cat.data['members']))\n"
   ]
  },
  {
   "cell_type": "markdown",
   "metadata": {},
   "source": [
    "### У большинста страниц о людях существует infobox, в котором есть дата рождения и дата смерти"
   ]
  },
  {
   "cell_type": "code",
   "execution_count": 32,
   "metadata": {
    "scrolled": false
   },
   "outputs": [
    {
     "name": "stdout",
     "output_type": "stream",
     "text": [
      "8135\r"
     ]
    }
   ],
   "source": [
    "%%capture --no-stdout\n",
    "pages=[]\n",
    "for i in range(0,8136):\n",
    "    page=wptools.page(pageid=cat.data['members'][i]['pageid'],timeout=0)\n",
    "    page.get_parse()\n",
    "    if(page.data.get('infobox') and \n",
    "       page.data['infobox'].get('birth_date') and \n",
    "       page.data['infobox'].get('death_date')):\n",
    "        pages.append((page.data['infobox'].get('birth_date'), page.data['infobox'].get('death_date')))\n",
    "    print(i,end=\"\\r\")"
   ]
  },
  {
   "cell_type": "code",
   "execution_count": 52,
   "metadata": {},
   "outputs": [],
   "source": [
    "with open(\"data_0-8137.txt\", \"wb\") as fp:\n",
    "    pickle.dump(pages, fp)"
   ]
  },
  {
   "cell_type": "code",
   "execution_count": 53,
   "metadata": {},
   "outputs": [],
   "source": [
    "with open(\"data_0-8137.txt\", \"rb\") as fp:  \n",
    "    pages = pickle.load(fp)\n"
   ]
  },
  {
   "cell_type": "markdown",
   "metadata": {},
   "source": [
    "### К сожалению даты сохранены не в единообразном формате, поэтому пришлось писать небольшой парсер"
   ]
  },
  {
   "cell_type": "code",
   "execution_count": 46,
   "metadata": {},
   "outputs": [],
   "source": [
    "def parser(birth,death):\n",
    "    if(birth.lower().find(\"birth date\")!=-1 and death.lower().find(\"death date\")!=-1):\n",
    "        birth=list(filter(lambda x:x!='',\n",
    "                     ''.join(list(filter(lambda x:x.isdigit() or x==\"|\",birth))).split(\"|\")))[0:3]\n",
    "        death=list(filter(lambda x:x!='',\n",
    "                     ''.join(list(filter(lambda x:x.isdigit() or x==\"|\",death))).split(\"|\")))[0:3]\n",
    "        try:\n",
    "            return (datetime.date(*map(int,birth)),datetime.date(*map(int,death)))\n",
    "        except ValueError:\n",
    "            return None\n",
    "        except TypeError:\n",
    "            return None\n",
    "    return None"
   ]
  },
  {
   "cell_type": "code",
   "execution_count": 69,
   "metadata": {},
   "outputs": [
    {
     "name": "stdout",
     "output_type": "stream",
     "text": [
      "Количество валидных страниц: 4286\n"
     ]
    }
   ],
   "source": [
    "dates=list(filter(lambda x:x is not None,map(lambda page:parser(page[0], page[1]),pages)))  \n",
    "\n",
    "print(\"Количество валидных страниц:\",len(dates))\n",
    "distanse_dates=list(map(lambda date:((date[0]-datetime.date(date[0].year,1,1))-\n",
    "                                   (date[1]-datetime.date(date[1].year,1,1))).days,dates))\n",
    "def circle(x):\n",
    "    if(x>182):\n",
    "        x = -364+x\n",
    "    if(x<-182):\n",
    "        x = 364+x\n",
    "    return x\n",
    "distanse_dates=list(map(circle,distanse_dates))# в днях\n",
    "distanse_dates=list(map(lambda x:x/7,distanse_dates)) # в неделях"
   ]
  },
  {
   "cell_type": "markdown",
   "metadata": {},
   "source": [
    "### На гистограмме показывается насколько далеко от дня рождения находится день смерти в неделях"
   ]
  },
  {
   "cell_type": "code",
   "execution_count": 87,
   "metadata": {},
   "outputs": [
    {
     "data": {
      "image/png": "[encoded data removed]",
      "text/plain": [
       "<matplotlib.figure.Figure at 0x7f6e9df66358>"
      ]
     },
     "metadata": {
      "needs_background": "light"
     },
     "output_type": "display_data"
    }
   ],
   "source": [
    "plt.hist(distanse_dates,bins=52)\n",
    "plt.xlim([-27, 27])\n",
    "plt.xticks(range(-26,30,4))\n",
    "plt.show()"
   ]
  }
 ],
 "metadata": {
  "kernelspec": {
   "display_name": "Python 3",
   "language": "python",
   "name": "python3"
  },
  "language_info": {
   "codemirror_mode": {
    "name": "ipython",
    "version": 3
   },
   "file_extension": ".py",
   "mimetype": "text/x-python",
   "name": "python",
   "nbconvert_exporter": "python",
   "pygments_lexer": "ipython3",
   "version": "3.6.9"
  }
 },
 "nbformat": 4,
 "nbformat_minor": 2
}
