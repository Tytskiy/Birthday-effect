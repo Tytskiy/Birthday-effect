{
 "cells": [
  {
   "cell_type": "code",
   "execution_count": 137,
   "metadata": {},
   "outputs": [],
   "source": [
    "import wptools\n",
    "import random\n",
    "import pickle\n",
    "import datetime\n",
    "import matplotlib.pyplot as plt"
   ]
  },
  {
   "cell_type": "code",
   "execution_count": 87,
   "metadata": {},
   "outputs": [
    {
     "name": "stderr",
     "output_type": "stream",
     "text": [
      "en.wikipedia.org (categorymembers) Category:2019_deaths\n",
      "en.wikipedia.org (categorymembers) Category:2019_deaths (&cmconti...\n",
      "en.wikipedia.org (categorymembers) Category:2019_deaths (&cmconti...\n",
      "en.wikipedia.org (categorymembers) Category:2019_deaths (&cmconti...\n",
      "en.wikipedia.org (categorymembers) Category:2019_deaths (&cmconti...\n",
      "en.wikipedia.org (categorymembers) Category:2019_deaths (&cmconti...\n",
      "en.wikipedia.org (categorymembers) Category:2019_deaths (&cmconti...\n",
      "en.wikipedia.org (categorymembers) Category:2019_deaths (&cmconti...\n",
      "en.wikipedia.org (categorymembers) Category:2019_deaths (&cmconti...\n",
      "en.wikipedia.org (categorymembers) Category:2019_deaths (&cmconti...\n",
      "en.wikipedia.org (categorymembers) Category:2019_deaths (&cmconti...\n",
      "en.wikipedia.org (categorymembers) Category:2019_deaths (&cmconti...\n",
      "en.wikipedia.org (categorymembers) Category:2019_deaths (&cmconti...\n",
      "en.wikipedia.org (categorymembers) Category:2019_deaths (&cmconti...\n",
      "en.wikipedia.org (categorymembers) Category:2019_deaths (&cmconti...\n",
      "en.wikipedia.org (categorymembers) Category:2019_deaths (&cmconti...\n",
      "en.wikipedia.org (categorymembers) Category:2019_deaths (&cmconti...\n",
      "Category:2019 deaths (en) data\n",
      "{\n",
      "  members: <list(8126)> {'pageid': 61852088, 'ns': 0, 'title': '20...\n",
      "  requests: <list(17)> category, category, category, category, cat...\n",
      "  subcategories: <list(4)> {'pageid': 59548573, 'ns': 14, 'title':...\n",
      "}\n"
     ]
    },
    {
     "data": {
      "text/plain": [
       "<wptools.category.WPToolsCategory at 0x7fc2938ff550>"
      ]
     },
     "execution_count": 87,
     "metadata": {},
     "output_type": "execute_result"
    }
   ],
   "source": [
    "cat = wptools.category('Category:2019_deaths')\n",
    "cat.get_members()"
   ]
  },
  {
   "cell_type": "code",
   "execution_count": 176,
   "metadata": {},
   "outputs": [
    {
     "name": "stdout",
     "output_type": "stream",
     "text": [
      "8126\n"
     ]
    },
    {
     "data": {
      "text/plain": [
       "[{'pageid': 61779755, 'ns': 0, 'title': 'A.K.Subbaiah'},\n",
       " {'pageid': 39563088, 'ns': 0, 'title': 'Jane Aamund'},\n",
       " {'pageid': 62843632, 'ns': 0, 'title': 'Jüri Aarma'},\n",
       " {'pageid': 60238842, 'ns': 0, 'title': 'Sveinung Aarnseth'},\n",
       " {'pageid': 20317651, 'ns': 0, 'title': 'Chester Aaron'}]"
      ]
     },
     "execution_count": 176,
     "metadata": {},
     "output_type": "execute_result"
    }
   ],
   "source": [
    "print(len(cat.data['members']))\n",
    "cat.data['members'][15:20]\n"
   ]
  },
  {
   "cell_type": "code",
   "execution_count": 177,
   "metadata": {
    "scrolled": false
   },
   "outputs": [],
   "source": [
    "%%capture\n",
    "pages=[]\n",
    "for i in range(2000):\n",
    "    page=wptools.page(pageid=cat.data['members'][random.randrange(0,2000)]['pageid'],timeout=0)\n",
    "    page.get_parse()\n",
    "    if(page.data.get('infobox') and \n",
    "       page.data['infobox'].get('birth_date') and \n",
    "       page.data['infobox'].get('death_date')):\n",
    "        pages.append((page.data['infobox'].get('birth_date'), page.data['infobox'].get('death_date')))\n",
    "\n",
    "with open(\"data_0-2000.txt\", \"wb\") as fp:\n",
    "    pickle.dump(pages, fp)\n",
    "    "
   ]
  },
  {
   "cell_type": "code",
   "execution_count": 182,
   "metadata": {},
   "outputs": [],
   "source": [
    "with open(\"data_0-2000.txt\", \"rb\") as fp:  \n",
    "    pages = pickle.load(fp)"
   ]
  },
  {
   "cell_type": "code",
   "execution_count": 194,
   "metadata": {},
   "outputs": [],
   "source": [
    "def parser(birth,death):\n",
    "    if(birth.lower().find(\"birth date\")!=-1 and death.lower().find(\"death date\")!=-1):\n",
    "        birth=list(filter(lambda x:x!='',\n",
    "                     ''.join(list(filter(lambda x:x.isdigit() or x==\"|\",birth))).split(\"|\")))[0:3]\n",
    "        death=list(filter(lambda x:x!='',\n",
    "                     ''.join(list(filter(lambda x:x.isdigit() or x==\"|\",death))).split(\"|\")))[0:3]\n",
    "        try:\n",
    "            return (datetime.date(*map(int,birth)),datetime.date(*map(int,death)))\n",
    "        except ValueError:\n",
    "            return None\n",
    "        except TypeError:\n",
    "            print(birth,death)\n",
    "    return None"
   ]
  },
  {
   "cell_type": "code",
   "execution_count": 195,
   "metadata": {},
   "outputs": [
    {
     "name": "stdout",
     "output_type": "stream",
     "text": [
      "1306 1021\n"
     ]
    }
   ],
   "source": [
    "dates=list(filter(lambda x:x is not None,map(lambda page:parser(page[0], page[1]),pages)))  \n",
    "\n",
    "print(len(pages),len(dates))\n",
    "distanse_dates=list(map(lambda date:((date[0]-datetime.date(date[0].year,1,1))-\n",
    "                                   (date[1]-datetime.date(date[1].year,1,1))).days,dates))\n",
    "def circle(x):\n",
    "    if(x>182):\n",
    "        return -364+x\n",
    "    if(x<-182):\n",
    "        return 364+x\n",
    "    return x\n",
    "distanse_dates=list(map(circle,distanse_dates))\n",
    "#print(distanse_dates)"
   ]
  },
  {
   "cell_type": "code",
   "execution_count": 197,
   "metadata": {},
   "outputs": [
    {
     "data": {
      "image/png": "[encoded data removed]",
      "text/plain": [
       "<matplotlib.figure.Figure at 0x7fc28c34a7b8>"
      ]
     },
     "metadata": {
      "needs_background": "light"
     },
     "output_type": "display_data"
    }
   ],
   "source": [
    "plt.hist(distanse_dates,bins=53)\n",
    "plt.show()"
   ]
  },
  {
   "cell_type": "code",
   "execution_count": null,
   "metadata": {},
   "outputs": [],
   "source": []
  }
 ],
 "metadata": {
  "kernelspec": {
   "display_name": "Python 3",
   "language": "python",
   "name": "python3"
  },
  "language_info": {
   "codemirror_mode": {
    "name": "ipython",
    "version": 3
   },
   "file_extension": ".py",
   "mimetype": "text/x-python",
   "name": "python",
   "nbconvert_exporter": "python",
   "pygments_lexer": "ipython3",
   "version": "3.6.9"
  }
 },
 "nbformat": 4,
 "nbformat_minor": 2
}
