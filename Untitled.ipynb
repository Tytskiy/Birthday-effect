{
 "cells": [
  {
   "cell_type": "code",
   "execution_count": 144,
   "metadata": {},
   "outputs": [],
   "source": [
    "import wptools\n",
    "import random\n",
    "import pickle"
   ]
  },
  {
   "cell_type": "code",
   "execution_count": 78,
   "metadata": {},
   "outputs": [
    {
     "name": "stderr",
     "output_type": "stream",
     "text": [
      "en.wikipedia.org (categorymembers) Category:2019_deaths\n",
      "en.wikipedia.org (categorymembers) Category:2019_deaths (&cmconti...\n",
      "en.wikipedia.org (categorymembers) Category:2019_deaths (&cmconti...\n",
      "en.wikipedia.org (categorymembers) Category:2019_deaths (&cmconti...\n",
      "en.wikipedia.org (categorymembers) Category:2019_deaths (&cmconti...\n",
      "en.wikipedia.org (categorymembers) Category:2019_deaths (&cmconti...\n",
      "en.wikipedia.org (categorymembers) Category:2019_deaths (&cmconti...\n",
      "en.wikipedia.org (categorymembers) Category:2019_deaths (&cmconti...\n",
      "en.wikipedia.org (categorymembers) Category:2019_deaths (&cmconti...\n",
      "en.wikipedia.org (categorymembers) Category:2019_deaths (&cmconti...\n",
      "en.wikipedia.org (categorymembers) Category:2019_deaths (&cmconti...\n",
      "en.wikipedia.org (categorymembers) Category:2019_deaths (&cmconti...\n",
      "en.wikipedia.org (categorymembers) Category:2019_deaths (&cmconti...\n",
      "en.wikipedia.org (categorymembers) Category:2019_deaths (&cmconti...\n",
      "en.wikipedia.org (categorymembers) Category:2019_deaths (&cmconti...\n",
      "en.wikipedia.org (categorymembers) Category:2019_deaths (&cmconti...\n",
      "en.wikipedia.org (categorymembers) Category:2019_deaths (&cmconti...\n",
      "Category:2019 deaths (en) data\n",
      "{\n",
      "  members: <list(8121)> {'pageid': 61852088, 'ns': 0, 'title': '20...\n",
      "  requests: <list(17)> category, category, category, category, cat...\n",
      "  subcategories: <list(4)> {'pageid': 59548573, 'ns': 14, 'title':...\n",
      "}\n"
     ]
    },
    {
     "data": {
      "text/plain": [
       "<wptools.category.WPToolsCategory at 0x7fca51d10828>"
      ]
     },
     "execution_count": 78,
     "metadata": {},
     "output_type": "execute_result"
    }
   ],
   "source": [
    "cat = wptools.category('Category:2019_deaths')\n",
    "cat.get_members()"
   ]
  },
  {
   "cell_type": "code",
   "execution_count": 153,
   "metadata": {},
   "outputs": [
    {
     "name": "stdout",
     "output_type": "stream",
     "text": [
      "8121\n"
     ]
    },
    {
     "data": {
      "text/plain": [
       "[{'pageid': 61779755, 'ns': 0, 'title': 'A.K.Subbaiah'},\n",
       " {'pageid': 39563088, 'ns': 0, 'title': 'Jane Aamund'},\n",
       " {'pageid': 62843632, 'ns': 0, 'title': 'Jüri Aarma'},\n",
       " {'pageid': 60238842, 'ns': 0, 'title': 'Sveinung Aarnseth'},\n",
       " {'pageid': 20317651, 'ns': 0, 'title': 'Chester Aaron'}]"
      ]
     },
     "execution_count": 153,
     "metadata": {},
     "output_type": "execute_result"
    }
   ],
   "source": [
    "print(len(cat.data['members']))\n",
    "cat.data['members'][15:20]\n"
   ]
  },
  {
   "cell_type": "code",
   "execution_count": 160,
   "metadata": {
    "scrolled": false
   },
   "outputs": [],
   "source": [
    "%%capture\n",
    "pages=[]\n",
    "for i in range(100):\n",
    "    page=wptools.page(pageid=cat.data['members'][random.randrange(15,8000)]['pageid'],timeout=0)\n",
    "    pages.append(page.get_parse())\n",
    "\n",
    "with open(\"data.txt\", \"wb\") as fp:\n",
    "    pickle.dump(pages, fp)\n",
    "    "
   ]
  },
  {
   "cell_type": "code",
   "execution_count": 186,
   "metadata": {},
   "outputs": [],
   "source": [
    "with open(\"data.txt\", \"rb\") as fp:  \n",
    "    pages = pickle.load(fp)"
   ]
  },
  {
   "cell_type": "code",
   "execution_count": 192,
   "metadata": {},
   "outputs": [
    {
     "name": "stdout",
     "output_type": "stream",
     "text": [
      "[('18 October 1926', '16 January 2019'), ('{{Birth date|1942|08|12}}', '{{Death date and age|2019|08|15|1942|08|12}}'), ('{{birth date|1956|03|07|df|=|yes}}', '{{death date and age|2019|02|14|1956|03|07|df|=|yes}}'), ('{{birth date|1922|04|14|df|=|y}}', '{{death date and age|2019|08|23|1922|04|14|df|=|y}}'), ('{{birth date|1942|11|22|df|=|y}}', '{{death date and age|2019|8|8|1942|11|22|df|=|y}}'), ('{{birth date|1943|12|20|df|=|y}}', '{{death date and age|2019|2|14|1943|12|20|df|=|y}}'), ('{{Birth date|df|=|yes|1945|06|14}}', '{{Death date and age|df|=|yes|2019|04|23|1945|06|14}}'), ('{{birth date|1925|4|21}}', '{{death date and age|2019|7|28|1925|4|21}}'), ('{{Birth year|1944}}', '{{Death date and given age|2019|01|15|75|df|=|y}}'), ('15 March 1931', '21 July 2019 (aged 88)'), ('{{Birth date|1927|09|07}}', '{{death date  and age|2019|10|09|1927|09|07}}'), ('{{birth date|1972|6|11|df|=|yes}}', '{{death date and age|2019|12|28|1972|6|11|df|=|yes}}'), ('21 September 1932', '{{Death date and age|df|=|y|2019|01|03|1932|09|21}}'), ('{{birth date|1964|1|2}}', '{{death date and age|2019|7|14|1964|1|2}}'), ('{{Birth date|1916|9|7}}', '{{Death date and age|2019|6|6|1916|9|7}}'), ('{{Birth date|1959|03|27}}', '{{Death date and age|2019|11|02|1959|03|27}}'), ('{{birth date|1921|2|20|df|=|y}}', '{{Death date and age|2019|04|24|1921|2|20|df|=|y}}'), ('{{birth date|1976|11|30|mf|=|y}}', '{{death date and age|2019|11|9|1976|11|30}}'), ('{{birth date|1949|11|22|df|=|y}}', '{{Death date and age|2019|10|19|1949|11|22|df|=|y}}'), ('{{birth date|df|=|yes|1953|6|7}}', '{{death date and age|2019|7|16|1953|6|7|df|=|yes}}'), ('{{Birth date|1947|3|7|df|=|yes}}', '{{death date and age|2019|06|20|1947|3|7|df|=|y}}'), ('{{Birth date|df|=|yes|1930|7|3}}', '{{death date and age|2019|10|30|1930|7|3|df|=|y}}'), ('{{birth date|df|=|yes|1951|07|11}}', '{{death date and age|df|=|y|2019|9|21|1951|07|11}}'), ('{{birth date|1945|11|5|df|=|y}}', '{{death date and age|2019|11|23|1945|11|5|df|=|y}}'), ('21 February 1934', '{{death date and age|2019|1|9|1934|2|21|df|=|yes}}'), ('{{Birth date|1931|10|18}}', '{{death date and age|2019|4|24|1931|10|18}}'), ('{{birth date|1927|6|15|df|=|y}}', '{{death date and age|2019|1|23|1927|6|15|df|=|y}}'), ('{{birth date|1922|11|8}}', '{{death date and age|2019|10|29|1922|11|08}}'), ('{{birth date|1935|11|4}}', '{{death date and age|2019|10|30|1935|11|4}}'), ('1940', '{{death date and given age|2019|01|05|79|df|=|y}}'), ('{{birth date |1931|04|22}}', '{{death date and age |2019|10|3|1931|04|22}}'), ('{{birth date|1976|11|30|mf|=|y}}', '{{death date and age|2019|11|9|1976|11|30}}'), ('August 18, 1937', 'November 19, 2019'), ('{{Birth date|df|=|yes|1939|10|20}}', '{{death date and age|df|=|yes|2019|5|16|1939|10|20}}'), ('{{birth date|1934|11|24}}', '{{death date and age|2019|7|6|1934|11|24}}'), ('8 April 1923', '{{Death date and age|df|=|y|2019|11|03|1923|04|08}}'), ('{{birth date|df|=|yes|1943|10|12}}', '{{death date and age|df|=|yes|2019|11|26|1943|10|12}}'), ('January 1929', '{{Death date and age|2019|7|3|1929|1}}'), ('{{birth date and age|1943|09|08|df|=|y}}', '19 December 2019'), ('{{birth date|1939|7|29}}', '{{death date and age|2019|3|7|1939|7|29}}'), ('{{Birth date|1931|11|11|df|=|yes}}', '{{death date and age|2019|7|3|1931|11|11|df|=|yes}}'), ('{{birth date|1925|09|22|df|=|yes}}', '{{death date and age|2019|11|20|1925|09|22|df|=|yes}}'), ('{{birth date |1928|09|14}}', '{{death date and age |2019|05|20 |1928|09|14}}'), ('{{birth date|1962|2|24}}', '{{death date and age|2019|11|17|1962|2|24}}'), ('{{birth date|1945|11|14}}', '{{Death date and age|2019|1|4|1945|11|14}}'), ('{{birth date|1964|09|24}}', '{{death date and age|2019|9|22|1964|9|24}}'), ('February 13, 1943', 'June 9, 2019'), ('{{Birth date|1924|10|27|df|=|yes}}', '{{Death date and age|2019|03|04|1924|10|27|df|=|yes}}'), ('{{birth date|1939|10|12}}', '{{death date and age |2019|3|6|1939|10|12}}'), ('{{birth date|1935|10|28}}', '{{death date and age|2019|12|18|1935|10|28}}'), ('{{birth date|1944|8|6|df|=|y}}', '{{death date and age|2019|7|16|1944|8|6|df|=|y}}'), ('1930', 'March 23, 2019'), ('26 June 1938', '{{Death date and age|df|=|y|2019|07|04|1938|06|26}}'), ('{{birth date |mf|=|yes|1940|6|18}}', '{{death date and age |2019|11|1940|6|18}}'), ('{{Birth date|1940|09|01|df|=|y}}', '{{Death date and age|df|=|yes|2019|11|21|1940|9|1}}'), ('1948/49', '4 August 2019'), ('{{birth date|df|=|yes|1950|4|6}}', '{{death date and age|2019|3|19|1950|4|6|df|=|y}}'), ('1 February 1941', '{{Death date and age|2019|11|12|1941|02|11|df|=|yes}}'), ('{{birth date|1962|12|22}}', '{{death date and age|2019|1|25|1962|12|22}}'), ('July 18, 1947', 'May 25, 2019'), ('{{birth date|df|=|y|1929|8|20}}', '{{death date and age |2019|1|15|1929|8|20|df|=|yes}}'), ('May 4, 1926', 'February 25, 2019 (aged 92)'), ('{{Birth date|df|=|y|1960|11|14}}', '{{death date and age|df|=|y|2019|04|28|1960|11|14}}'), ('{{birth date|1941|2|8}}', '{{Death date and age|2019|6|7|1941|2|8}}'), ('{{Birth date|1931|7|29|df|=|y}}', '{{Death date and age|2019|5|2|1931|7|29|df|=|y}}'), ('{{Birth date|1936|5|5|df|=|y}}', '{{Death date and age|2019|11|18|1936|5|5|df|=|y}}'), ('{{birth date|1935|5|17}}', '{{death date and age|2019|4|7|1935|5|17}}'), ('{{birth date|1926|11|29|df|=|y}}', '{{death date and age|2019|7|25|1926|11|29|df|=|y}}'), ('{{Birth date|1931|03|05}}', '{{Death date and age|2019|03|18|1931|03|05}}'), ('{{Birth date|1930|09|21}}', '{{Death date and age|2019|09|09|1930|09|21}}')]\n"
     ]
    }
   ],
   "source": [
    "dates=[]\n",
    "for page in pages:\n",
    "    if(page.data.get('infobox') and page.data['infobox'].get('birth_date') and page.data['infobox'].get('death_date')):\n",
    "        dates.append((page.data['infobox'][\"birth_date\"], page.data['infobox'][\"death_date\"]))\n",
    "print(dates)\n",
    "        "
   ]
  },
  {
   "cell_type": "code",
   "execution_count": null,
   "metadata": {},
   "outputs": [],
   "source": []
  }
 ],
 "metadata": {
  "kernelspec": {
   "display_name": "Python 3",
   "language": "python",
   "name": "python3"
  },
  "language_info": {
   "codemirror_mode": {
    "name": "ipython",
    "version": 3
   },
   "file_extension": ".py",
   "mimetype": "text/x-python",
   "name": "python",
   "nbconvert_exporter": "python",
   "pygments_lexer": "ipython3",
   "version": "3.6.9"
  }
 },
 "nbformat": 4,
 "nbformat_minor": 2
}
